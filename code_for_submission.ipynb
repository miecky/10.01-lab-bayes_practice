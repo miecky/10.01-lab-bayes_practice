{
 "cells": [
  {
   "cell_type": "markdown",
   "metadata": {},
   "source": [
    "## 9.01 Lab - Bayes Practice\n",
    "\n",
    "> Author: Matt Brems\n",
    "\n",
    "This lab will have two parts.\n",
    "\n",
    "- Part 1: Bayes Practice Problems\n",
    "- Part 2: Moving from Probabilities to Distributions"
   ]
  },
  {
   "cell_type": "markdown",
   "metadata": {},
   "source": [
    "### Part 1: Bayes Practice Problems\n",
    "\n",
    "##### Problem 1. You work at a financial services company that offers individual retirement accounts (IRAs). To target high potential customers, you want to find out if people with children are more likely to invest in IRAs.  \n",
    "\n",
    "So far you have found:\n",
    "- 30% of all Americans have IRAs.\n",
    "- half of Americans have children.\n",
    "- two-thirds of those with IRAs have children.\n",
    "\n",
    "Based on this information, what is the probability that someone with children has an IRA? "
   ]
  },
  {
   "cell_type": "markdown",
   "metadata": {},
   "source": [
    "**Answer:** "
   ]
  },
  {
   "cell_type": "markdown",
   "metadata": {},
   "source": [
    "$$P(IRA|Children) = P(Children|IRA)*P(IRA)  /  P(Children)$$\n"
   ]
  },
  {
   "cell_type": "code",
   "execution_count": 24,
   "metadata": {},
   "outputs": [],
   "source": [
    "import numpy as np"
   ]
  },
  {
   "cell_type": "code",
   "execution_count": 7,
   "metadata": {},
   "outputs": [
    {
     "name": "stdout",
     "output_type": "stream",
     "text": [
      "The Probability that someone with children has an IRA is 40.0%.\n"
     ]
    }
   ],
   "source": [
    "p_children_IRA = 2/3\n",
    "P_IRA = .3\n",
    "P_Children = .5\n",
    "\n",
    "P_IRA_Children = P_Children_IRA * P_IRA / P_Children\n",
    "print(f'The Probability that someone with children has an IRA is {round(P_IRA_Children, 2)*100}%.')"
   ]
  },
  {
   "cell_type": "markdown",
   "metadata": {},
   "source": [
    "##### Problem 2: Suppose I own a hotel and an apartment building. Times are tight, and I need to sell one of them. Both would earn me the exact same amount of money, so that doesn't help me to make my decision. Instead, I decide to make my decision based on my residents' satisfaction. \n",
    "- Whichever building has a higher percentage of satisfied people is the one I will choose to keep.\n",
    "- _However_, if the percent of satisfied guests for my hotel and the percent of satified guests for my apartment building are within 10% of one another, I will sell neither until I can bring in some outside consultants to help me make my decision.\n",
    "- Last winter, I administered a survey to *all* residents and found that 60% of them are satisfied.\n",
    "- Among satisfied respondents, two out of every five came from the apartment building.\n",
    "- One-third of my residents live in my apartment building.\n",
    "\n",
    "What action will I take?"
   ]
  },
  {
   "cell_type": "markdown",
   "metadata": {},
   "source": [
    "**Answer:** "
   ]
  },
  {
   "cell_type": "code",
   "execution_count": 11,
   "metadata": {},
   "outputs": [
    {
     "name": "stdout",
     "output_type": "stream",
     "text": [
      "72.0% residents in the apartment are satisfied.\n",
      "54.0% residents in the hotel are satisfied.\n",
      "Decision: Sell the Hotel\n"
     ]
    }
   ],
   "source": [
    "p_apartment_s = 2/5\n",
    "p_hotel_s = 1 - p_apartment_s\n",
    "p_apartment = 1/3\n",
    "p_hotel = 1 - p_apartment\n",
    "p_s = .6\n",
    "\n",
    "p_s_apartment = p_apartment_s * p_s / p_apartment\n",
    "print(f'{round(p_s_apartment, 2)*100}% residents in the apartment are satisfied.')\n",
    "\n",
    "p_s_hotel = p_hotel_s * p_s / p_hotel\n",
    "print(f'{round(p_s_hotel, 2)*100}% residents in the hotel are satisfied.')\n",
    "\n",
    "if p_s_apartment - p_s_hotel > .1:\n",
    "    print('Decision: Sell the Hotel')\n",
    "elif p_s_apartment - p_s_hotel < -.1:\n",
    "    print('Decision: Sell the Apartment')\n",
    "else:\n",
    "    print('Consult Professionals')"
   ]
  },
  {
   "cell_type": "markdown",
   "metadata": {},
   "source": [
    "##### Problem 3: Suppose you and your friend are playing a game. Your friend has laid four coins out in front of you. If you flip heads, you win a dollar from your friend. If you flip tails, you owe a dollar to your friend. However, the coins in front of you are not fair.\n",
    "- One coin has a 80% chance of flipping heads. (Call this coin A.)\n",
    "- One coin has a 60% chance of flipping heads. (Call this coin B.)\n",
    "- One coin has a 40% chance of flipping heads. (Call this coin C.)\n",
    "- One coin has a 10% chance of flipping heads. (Call this coin D.)\n",
    "\n",
    "##### Problem 3-a) Suppose you select one coin at random. That is, you don't know whether you selected coin A, B, C, or D. You flip heads. Given this data, what are the probabilities that you selected coin A, coin B, coin C, and coin D?\n",
    "\n",
    "> Hint: When finding the marginal probability of flipping heads, you will need to use the Law of Total Probability! Find this **first**."
   ]
  },
  {
   "cell_type": "markdown",
   "metadata": {},
   "source": [
    "**Answer**: 25%"
   ]
  },
  {
   "cell_type": "code",
   "execution_count": 1,
   "metadata": {},
   "outputs": [
    {
     "name": "stdout",
     "output_type": "stream",
     "text": [
      "The probability that I selected coin A is 42.0%.\n",
      "The probability that I selected coin B is 32.0%.\n",
      "The probability that I selected coin C is 21.0%.\n",
      "The probability that I selected coin D is 5.0%.\n"
     ]
    }
   ],
   "source": [
    "p_a, p_b, p_c, p_d = [.25 for _ in range(4)]\n",
    "\n",
    "p_head_a = .8\n",
    "p_head_b = .6\n",
    "p_head_c = .4\n",
    "p_head_d = .1\n",
    "\n",
    "p_a_head = p_head_a * p_a / ((p_head_a + p_head_b + p_head_c + p_head_d)/4)\n",
    "p_b_head = p_head_b * p_b / ((p_head_a + p_head_b + p_head_c + p_head_d)/4)\n",
    "p_c_head = p_head_c * p_c / ((p_head_a + p_head_b + p_head_c + p_head_d)/4)\n",
    "p_d_head = p_head_d * p_d / ((p_head_a + p_head_b + p_head_c + p_head_d)/4)\n",
    "\n",
    "print(f'The probability that I selected coin A is {round(p_a_head, 2)*100}%.')\n",
    "print(f'The probability that I selected coin B is {round(p_b_head, 2)*100}%.')\n",
    "print(f'The probability that I selected coin C is {round(p_c_head, 2)*100}%.')\n",
    "print(f'The probability that I selected coin D is {round(p_d_head, 2)*100}%.')"
   ]
  },
  {
   "cell_type": "markdown",
   "metadata": {},
   "source": [
    "##### BONUS: Problem 3-b) Suppose you are using the same coin as before. That is, you _still_ don't know whether you selected coin A, B, C, or D - although you have a better idea now that you flipped heads on your first flip! On this second flip, you flip tails. Given this data, what are the probabilities that you selected coin A, coin B, coin C, and coin D?\n",
    "\n",
    "> Hint: Everything now is **conditional on the fact that we have already flipped a heads**.\n",
    "\n",
    "$$\n",
    "\\begin{eqnarray*}\n",
    "P(A|B\\cap C) &=& \\frac{P(A\\cap B \\cap C)}{P(B\\cap C)} \\\\\n",
    "\\\\\n",
    "&=& \\frac{P(A\\cap B|C)P(C)}{P(B|C)P(C)} \\\\\n",
    "\\\\\n",
    "&=& \\frac{P(A\\cap B|C)}{P(B|C)} \\\\\n",
    "\\end{eqnarray*}\n",
    "$$"
   ]
  },
  {
   "cell_type": "markdown",
   "metadata": {},
   "source": [
    "**Answer**:"
   ]
  },
  {
   "cell_type": "code",
   "execution_count": 7,
   "metadata": {},
   "outputs": [
    {
     "name": "stdout",
     "output_type": "stream",
     "text": [
      "The probability that I selected coin A is 22.0%.\n",
      "The probability that I selected coin B is 33.0%.\n",
      "The probability that I selected coin C is 33.0%.\n",
      "The probability that I selected coin D is 12.0%.\n"
     ]
    }
   ],
   "source": [
    "p_tail_a = 1 - p_head_a\n",
    "p_tail_b = 1 - p_head_b\n",
    "p_tail_c = 1 - p_head_c\n",
    "p_tail_d = 1 - p_head_d\n",
    "\n",
    "p_tail_a_head = p_tail_a * p_a_head\n",
    "p_tail_b_head = p_tail_b * p_b_head\n",
    "p_tail_c_head = p_tail_c * p_c_head\n",
    "p_tail_d_head = p_tail_d * p_d_head\n",
    "\n",
    "p_a_tail_head = p_tail_a_head / (p_tail_a_head + p_tail_b_head + p_tail_c_head + p_tail_d_head)\n",
    "p_b_tail_head = p_tail_b_head / (p_tail_a_head + p_tail_b_head + p_tail_c_head + p_tail_d_head)\n",
    "p_c_tail_head = p_tail_c_head / (p_tail_a_head + p_tail_b_head + p_tail_c_head + p_tail_d_head)\n",
    "p_d_tail_head = p_tail_d_head / (p_tail_a_head + p_tail_b_head + p_tail_c_head + p_tail_d_head)\n",
    "\n",
    "print(f'The probability that I selected coin A is {round(p_a_tail_head, 2)*100}%.')\n",
    "print(f'The probability that I selected coin B is {round(p_b_tail_head, 2)*100}%.')\n",
    "print(f'The probability that I selected coin C is {round(p_c_tail_head, 2)*100}%.')\n",
    "print(f'The probability that I selected coin D is {round(p_d_tail_head, 2)*100}%.')"
   ]
  },
  {
   "cell_type": "markdown",
   "metadata": {},
   "source": [
    "##### BONUS: Problem 3-c) Suppose you are using the same coin as before. That is, you _still_ don't know whether you selected coin A, B, C, or D - although you have a better idea now that you flipped heads, then tails on your first two flips! On this third flip, you flip tails. Given this data, what are the probabilities that you selected coin A, coin B, coin C, and coin D?\n",
    "\n",
    "> Hint: This will follow the same structure as the last two problems."
   ]
  },
  {
   "cell_type": "markdown",
   "metadata": {},
   "source": [
    "**Answer**:"
   ]
  },
  {
   "cell_type": "code",
   "execution_count": 8,
   "metadata": {},
   "outputs": [
    {
     "name": "stdout",
     "output_type": "stream",
     "text": [
      "The probability that I selected coin A is 9.0%.\n",
      "The probability that I selected coin B is 27.0%.\n",
      "The probability that I selected coin C is 41.0%.\n",
      "The probability that I selected coin D is 23.0%.\n"
     ]
    }
   ],
   "source": [
    "p_tail_a_tail_head = p_tail_a * p_a_tail_head\n",
    "p_tail_b_tail_head = p_tail_b * p_b_tail_head\n",
    "p_tail_c_tail_head = p_tail_c * p_c_tail_head\n",
    "p_tail_d_tail_head = p_tail_d * p_d_tail_head\n",
    "\n",
    "p_a_tail_tail_head = p_tail_a_tail_head / (p_tail_a_tail_head + p_tail_b_tail_head +\\\n",
    "                                           p_tail_c_tail_head + p_tail_d_tail_head)\n",
    "p_b_tail_tail_head = p_tail_b_tail_head / (p_tail_a_tail_head + p_tail_b_tail_head +\\\n",
    "                                           p_tail_c_tail_head + p_tail_d_tail_head)\n",
    "p_c_tail_tail_head = p_tail_c_tail_head / (p_tail_a_tail_head + p_tail_b_tail_head +\\\n",
    "                                           p_tail_c_tail_head + p_tail_d_tail_head)\n",
    "p_d_tail_tail_head = p_tail_d_tail_head / (p_tail_a_tail_head + p_tail_b_tail_head +\\\n",
    "                                           p_tail_c_tail_head + p_tail_d_tail_head)\n",
    "\n",
    "print(f'The probability that I selected coin A is {round(p_a_tail_tail_head, 2)*100}%.')\n",
    "print(f'The probability that I selected coin B is {round(p_b_tail_tail_head, 2)*100}%.')\n",
    "print(f'The probability that I selected coin C is {round(p_c_tail_tail_head, 2)*100}%.')\n",
    "print(f'The probability that I selected coin D is {round(p_d_tail_tail_head, 2)*100}%.')"
   ]
  },
  {
   "cell_type": "markdown",
   "metadata": {},
   "source": [
    "### Part 2: Moving from Probabilities to Distributions"
   ]
  },
  {
   "cell_type": "markdown",
   "metadata": {},
   "source": [
    "##### Problem 4. We want to look at our prior probabilities.\n",
    "\n",
    "##### Problem 4-a) In Problem 3, before you had flipped any coin, what was the probability that you had selected coin A? Coin B? Coin C? Coin D?"
   ]
  },
  {
   "cell_type": "markdown",
   "metadata": {},
   "source": [
    "**Answer:**\n",
    "\n",
    "The probability is 25% for each coin."
   ]
  },
  {
   "cell_type": "markdown",
   "metadata": {},
   "source": [
    "##### Problem 4-b) What is the definition of a distribution?\n",
    "> Check your notes from the early weeks of the course if you can't remember."
   ]
  },
  {
   "cell_type": "markdown",
   "metadata": {},
   "source": [
    "**Answer:**\n",
    "\n",
    "The set of all possible outcomes and associated probabilities."
   ]
  },
  {
   "cell_type": "markdown",
   "metadata": {},
   "source": [
    "##### Problem 4-c) What \"named distribution\" (i.e. a distribution that has a common name) could we apply to a situation where selecting coins A-D is equally likely?"
   ]
  },
  {
   "cell_type": "markdown",
   "metadata": {},
   "source": [
    "**Answer:**\n",
    "\n",
    "Uniform distribution."
   ]
  },
  {
   "cell_type": "markdown",
   "metadata": {},
   "source": [
    "##### Problem 4-d) Suppose that I have only one coin and I want to conduct inference on the probability of flipping heads, $p$. Note that $p$ is unknown. If I want to specify some prior distribution where all probabilities $p$ are equally likely, should I use a discrete or continuous distribution? Why?"
   ]
  },
  {
   "cell_type": "markdown",
   "metadata": {},
   "source": [
    "**Answer:**\n",
    "\n",
    "Discrete. The success and failure is countable but not measurable."
   ]
  },
  {
   "cell_type": "markdown",
   "metadata": {},
   "source": [
    "##### Problem 4-e) Suppose that I have only one coin and I want to conduct inference on the probability of flipping heads, $p$. Note that $p$ is unknown. If I want to specify some prior distribution where all probabilities $p$ are equally likely, then what named distribution might I use?"
   ]
  },
  {
   "cell_type": "markdown",
   "metadata": {
    "slideshow": {
     "slide_type": "subslide"
    }
   },
   "source": [
    "**Answer:**\n",
    "\n",
    "Bernoulli Distribution"
   ]
  },
  {
   "cell_type": "markdown",
   "metadata": {},
   "source": [
    "##### Problem 4-f) Suppose I have only one coin with some unknown probability of flipping heads $p$. If I think 50% is the likeliest value for $p$ and, as we get farther away from 50%, that value is less and less likely, what named distribution could I use?"
   ]
  },
  {
   "cell_type": "markdown",
   "metadata": {},
   "source": [
    "**Answer:**\n",
    "\n",
    "Normal Distribution"
   ]
  },
  {
   "cell_type": "markdown",
   "metadata": {},
   "source": [
    "##### Problem 4-f) When we listed out our prior probabilities for each coin, we got the same number of posterior probabilities. For example, when we had four prior probabilities (one for Coin A, one for Coin B, one for Coin C, and one for Coin D), then we had four posterior probabilities (one for Coin A, for Coin B, one for Coin C, and one for Coin D). However, if we have one prior distribution, then we will get one posterior distribution. What are some advantages to being able to summarize our posterior with one distribution instead of a big list of probabilities?"
   ]
  },
  {
   "cell_type": "markdown",
   "metadata": {},
   "source": [
    "**Answer:**\n",
    "\n",
    "One posterior distribution make it possible for inference. Individual probabilities provides little information."
   ]
  }
 ],
 "metadata": {
  "kernelspec": {
   "display_name": "Python 3",
   "language": "python",
   "name": "python3"
  },
  "language_info": {
   "codemirror_mode": {
    "name": "ipython",
    "version": 3
   },
   "file_extension": ".py",
   "mimetype": "text/x-python",
   "name": "python",
   "nbconvert_exporter": "python",
   "pygments_lexer": "ipython3",
   "version": "3.7.3"
  }
 },
 "nbformat": 4,
 "nbformat_minor": 2
}
